{
 "cells": [
  {
   "cell_type": "markdown",
   "metadata": {},
   "source": [
    "# Data Collection and Modelings"
   ]
  },
  {
   "cell_type": "markdown",
   "metadata": {},
   "source": [
    "## Example API access to NREL.gov\n",
    "First I demonstrate how to access the data source NREL. After this, I explain how we use this data to calculate plausible PV outage over days, months, and then years for various locations. Finally, I use this data to train a model to predict the PV outage for the future for various locations."
   ]
  },
  {
   "cell_type": "code",
   "execution_count": 2,
   "metadata": {},
   "outputs": [],
   "source": [
    "import sys, os\n",
    "import pandas as pd\n",
    "import numpy as np\n",
    "from IPython.display import display\n",
    "\n",
    "#idk why this fix does stuff\n",
    "import ssl\n",
    "import certifi\n",
    "import certifi\n",
    "import urllib\n",
    "os.environ[\"REQUESTS_CA_BUNDLE\"] = certifi.where()\n",
    "os.environ[\"SSL_CERT_FILE\"] = certifi.where()\n",
    "context = ssl.create_default_context(cafile=certifi.where())\n",
    "ssl._create_default_https_context = lambda: ssl.create_default_context(cafile=certifi.where())\n",
    "# ssl._create_default_https_context = ssl._create_unverified_context"
   ]
  },
  {
   "cell_type": "code",
   "execution_count": 3,
   "metadata": {},
   "outputs": [],
   "source": [
    "# Declare all variables as strings. Spaces must be replaced with '+', i.e., change 'John Smith' to 'John+Smith'.\n",
    "# Define the lat, long of the location and the year\n",
    "lat, lon, year = 33.2164, -118.2437, 2010 #Long is always negative Los Angeles USA: 33.2164, -118.2437\n",
    "# You must request an NSRDB api key from the link above\n",
    "api_key = 'i6Pcob8Y47SEHUlKuyjPSu2zozcFv9ne0DuB8aw7'\n",
    "# Set the attributes to extract (e.g., dhi, ghi, etc.), separated by commas.\n",
    "attributes = 'ghi,air_temperature,relative_humidity,wind_speed'\n",
    "# Choose year of data\n",
    "year = year\n",
    "# Set leap year to true or false. True will return leap day data if present, false will not.\n",
    "leap_year = 'false'\n",
    "# Set time interval in minutes, i.e., '30' is half hour intervals. Valid intervals are 30 & 60.\n",
    "interval = '60'\n",
    "# Specify Coordinated Universal Time (UTC), 'true' will use UTC, 'false' will use the local time zone of the data.\n",
    "# NOTE: In order to use the NSRDB data in SAM, you must specify UTC as 'false'. SAM requires the data to be in the\n",
    "# local time zone.\n",
    "utc = 'false'\n",
    "# Your full name, use '+' instead of spaces.\n",
    "your_name = 'andrew+xavier'\n",
    "# Your reason for using the NSRDB.\n",
    "reason_for_use = 'beta+testing'\n",
    "# Your affiliation\n",
    "your_affiliation = 'rice+university'\n",
    "# Your email address\n",
    "your_email = 'ahx1@rice.edu'\n",
    "# Please join our mailing list so we can keep you up-to-date on new developments.\n",
    "mailing_list = 'true'\n",
    "\n",
    "# Declare url string\n",
    "url = 'https://developer.nrel.gov/api/nsrdb/v2/solar/psm3-download.csv?wkt=POINT({lon}%20{lat})&names={year}&leap_day={leap}&interval={interval}&utc={utc}&full_name={name}&email={email}&affiliation={affiliation}&mailing_list={mailing_list}&reason={reason}&api_key={api}&attributes={attr}'.format(year=year, lat=lat, lon=lon, leap=leap_year, interval=interval, utc=utc, name=your_name, email=your_email, mailing_list=mailing_list, affiliation=your_affiliation, reason=reason_for_use, api=api_key, attr=attributes)\n",
    "# Return just the first 2 lines to get metadata:\n",
    "info = pd.read_csv(url, nrows=1)\n",
    "# See metadata for specified properties, e.g., timezone and elevation\n",
    "timezone, elevation = info['Local Time Zone'], info['Elevation']\n"
   ]
  },
  {
   "cell_type": "code",
   "execution_count": 4,
   "metadata": {},
   "outputs": [
    {
     "name": "stdout",
     "output_type": "stream",
     "text": [
      "shape: (8760, 9)\n"
     ]
    },
    {
     "data": {
      "text/html": [
       "<div>\n",
       "<style scoped>\n",
       "    .dataframe tbody tr th:only-of-type {\n",
       "        vertical-align: middle;\n",
       "    }\n",
       "\n",
       "    .dataframe tbody tr th {\n",
       "        vertical-align: top;\n",
       "    }\n",
       "\n",
       "    .dataframe thead th {\n",
       "        text-align: right;\n",
       "    }\n",
       "</style>\n",
       "<table border=\"1\" class=\"dataframe\">\n",
       "  <thead>\n",
       "    <tr style=\"text-align: right;\">\n",
       "      <th></th>\n",
       "      <th>Year</th>\n",
       "      <th>Month</th>\n",
       "      <th>Day</th>\n",
       "      <th>Hour</th>\n",
       "      <th>Minute</th>\n",
       "      <th>GHI</th>\n",
       "      <th>Temperature</th>\n",
       "      <th>Relative Humidity</th>\n",
       "      <th>Wind Speed</th>\n",
       "    </tr>\n",
       "  </thead>\n",
       "  <tbody>\n",
       "    <tr>\n",
       "      <th>2010-01-01 00:00:00</th>\n",
       "      <td>2010</td>\n",
       "      <td>1</td>\n",
       "      <td>1</td>\n",
       "      <td>0</td>\n",
       "      <td>30</td>\n",
       "      <td>0</td>\n",
       "      <td>15</td>\n",
       "      <td>79.35</td>\n",
       "      <td>2.5</td>\n",
       "    </tr>\n",
       "    <tr>\n",
       "      <th>2010-01-01 01:00:00</th>\n",
       "      <td>2010</td>\n",
       "      <td>1</td>\n",
       "      <td>1</td>\n",
       "      <td>1</td>\n",
       "      <td>30</td>\n",
       "      <td>0</td>\n",
       "      <td>15</td>\n",
       "      <td>78.65</td>\n",
       "      <td>3.0</td>\n",
       "    </tr>\n",
       "    <tr>\n",
       "      <th>2010-01-01 02:00:00</th>\n",
       "      <td>2010</td>\n",
       "      <td>1</td>\n",
       "      <td>1</td>\n",
       "      <td>2</td>\n",
       "      <td>30</td>\n",
       "      <td>0</td>\n",
       "      <td>15</td>\n",
       "      <td>77.00</td>\n",
       "      <td>3.5</td>\n",
       "    </tr>\n",
       "    <tr>\n",
       "      <th>2010-01-01 03:00:00</th>\n",
       "      <td>2010</td>\n",
       "      <td>1</td>\n",
       "      <td>1</td>\n",
       "      <td>3</td>\n",
       "      <td>30</td>\n",
       "      <td>0</td>\n",
       "      <td>15</td>\n",
       "      <td>74.76</td>\n",
       "      <td>3.7</td>\n",
       "    </tr>\n",
       "    <tr>\n",
       "      <th>2010-01-01 04:00:00</th>\n",
       "      <td>2010</td>\n",
       "      <td>1</td>\n",
       "      <td>1</td>\n",
       "      <td>4</td>\n",
       "      <td>30</td>\n",
       "      <td>0</td>\n",
       "      <td>15</td>\n",
       "      <td>72.82</td>\n",
       "      <td>3.7</td>\n",
       "    </tr>\n",
       "  </tbody>\n",
       "</table>\n",
       "</div>"
      ],
      "text/plain": [
       "                     Year  Month  Day  Hour  Minute  GHI  Temperature  \\\n",
       "2010-01-01 00:00:00  2010      1    1     0      30    0           15   \n",
       "2010-01-01 01:00:00  2010      1    1     1      30    0           15   \n",
       "2010-01-01 02:00:00  2010      1    1     2      30    0           15   \n",
       "2010-01-01 03:00:00  2010      1    1     3      30    0           15   \n",
       "2010-01-01 04:00:00  2010      1    1     4      30    0           15   \n",
       "\n",
       "                     Relative Humidity  Wind Speed  \n",
       "2010-01-01 00:00:00              79.35         2.5  \n",
       "2010-01-01 01:00:00              78.65         3.0  \n",
       "2010-01-01 02:00:00              77.00         3.5  \n",
       "2010-01-01 03:00:00              74.76         3.7  \n",
       "2010-01-01 04:00:00              72.82         3.7  "
      ]
     },
     "execution_count": 4,
     "metadata": {},
     "output_type": "execute_result"
    }
   ],
   "source": [
    "# Return all but first 2 lines of csv to get data:\n",
    "df = pd.read_csv('https://developer.nrel.gov/api/nsrdb/v2/solar/psm3-download.csv?wkt=POINT({lon}%20{lat})&names={year}&leap_day={leap}&interval={interval}&utc={utc}&full_name={name}&email={email}&affiliation={affiliation}&mailing_list={mailing_list}&reason={reason}&api_key={api}&attributes={attr}'.format(year=year, lat=lat, lon=lon, leap=leap_year, interval=interval, utc=utc, name=your_name, email=your_email, mailing_list=mailing_list, affiliation=your_affiliation, reason=reason_for_use, api=api_key, attr=attributes), skiprows=2)\n",
    "\n",
    "# Set the time index in the pandas dataframe:\n",
    "df = df.set_index(pd.date_range('1/1/{yr}'.format(yr=year), freq=interval+'Min', periods=525600/int(interval)))\n",
    "\n",
    "# take a look\n",
    "print('shape:', df.shape)\n",
    "df.head()"
   ]
  },
  {
   "cell_type": "code",
   "execution_count": 7,
   "metadata": {},
   "outputs": [
    {
     "name": "stdout",
     "output_type": "stream",
     "text": [
      "\\begin{tabular}{rrrrrrrrr}\n",
      "\\toprule\n",
      " Year &  Month &  Day &  Hour &  Minute &  GHI &  Temperature &  Relative Humidity &  Wind Speed \\\\\n",
      "\\midrule\n",
      " 2010 &      1 &    1 &     0 &       0 &    0 &           15 &              79.37 &         2.3 \\\\\n",
      " 2010 &      1 &    1 &     0 &      30 &    0 &           15 &              79.35 &         2.5 \\\\\n",
      " 2010 &      1 &    1 &     1 &       0 &    0 &           15 &              78.67 &         2.7 \\\\\n",
      " 2010 &      1 &    1 &     1 &      30 &    0 &           15 &              78.65 &         3.0 \\\\\n",
      " 2010 &      1 &    1 &     2 &       0 &    0 &           15 &              77.03 &         3.3 \\\\\n",
      "\\bottomrule\n",
      "\\end{tabular}\n",
      "\n"
     ]
    },
    {
     "name": "stderr",
     "output_type": "stream",
     "text": [
      "C:\\Users\\andre\\AppData\\Local\\Temp\\ipykernel_22020\\3906604345.py:1: FutureWarning: In future versions `DataFrame.to_latex` is expected to utilise the base implementation of `Styler.to_latex` for formatting and rendering. The arguments signature may therefore change. It is recommended instead to use `DataFrame.style.to_latex` which also contains additional functionality.\n",
      "  print(df.head().to_latex(index=False))\n"
     ]
    }
   ],
   "source": [
    "#For LaTeX\n",
    "print(df.head().to_latex(index=False))  "
   ]
  },
  {
   "cell_type": "markdown",
   "metadata": {},
   "source": [
    "## Data Processing and Calculating PV Output Using NREL Data\n",
    "The data is too granular to use as it is. As such, I will generate a new column that calculates the power generation using temperature and GHI levels. Then, I will sum them over each day, then average by month giving average total \"power\" per day per month. We cannot take the average temperature of each day and the average GHI of each day as seen in the EDA section (the GHI levels and temperature levels do not follow the same patterns.)"
   ]
  },
  {
   "cell_type": "markdown",
   "metadata": {},
   "source": [
    "### Calculations for Energy:\n",
    "#### The following is based off the equations for PV output given by Homer: \n",
    "https://www.homerenergy.com/products/pro/docs/3.11/how_homer_calculates_the_pv_array_power_output.html\n",
    "\n",
    "Power output in kW for a solar panel is given by:\n",
    "$$P = Y_{pv}f_{pv}(\\frac{G_T}{G_{T,STC}})[1+\\alpha*(T_c - T_{c,STC})]$$\n",
    "\n",
    "$Y_{pv}$ = the rated capacity of the PV array, meaning its power output under standard test conditions [kW]. Best PV array has value of 400W, but some are as low as 260W (https://www.solaris-shop.com/hanwha-q-cells-q-pro-bfr-g4-260-260w-poly-solar-panel/ https://www.solar.com/learn/how-much-energy-does-a-solar-panel-produce/). Note however, this is by cells! \n",
    "\n",
    "$f_{pv}$ = the PV derating factor [%]\n",
    "\n",
    "$G_T$ = the solar radiation incident on the PV array in the current time step [kW/m2]. \n",
    "\n",
    "$G_{T,STC}$ = the incident radiation at standard test conditions [1 kW/m2]\n",
    "\n",
    "α = the temperature coefficient of power [%/°C]\n",
    "\n",
    "$T_c$ = the PV cell temperature in the current time step [°C]\n",
    "\n",
    "$T_{c,STC}$ = the PV cell temperature under standard test conditions [25°C]\n",
    "\n",
    "#### Simplify\n",
    "$Y_{pv}$ in this example will be 400W based on a 400W panel which are standard in 2022.\n",
    "\n",
    "We note that $f_{pv}$ does not deviate between locations in ways that are deducable from the given data. Since we largely care about the PV output relative to each location, this is no factored in (thought it would scale the entire dataset from around 0-15%). As such, our equations simplifies to:\n",
    "\n",
    "$400WG_T[1+\\alpha*(T_c - T_{c,STC})]$\n",
    "\n",
    "Note by doing this, we have change to a scalar multiple of the true Power output!\n",
    "\n",
    "From: https://wiki.openmod-initiative.org/wiki/Standard_test_conditions#:~:text=STC%20is%20an%20industry%2Dwide,5)%20spectrum. \n",
    "\n",
    "\n",
    "We know $T_{c,STC}$ is just 25 degrees Celcius\n",
    "Our equation becomes:\n",
    "$$400WG_T[1+\\alpha*(T_c - 25\\degree C)]$$\n",
    "$G_T$ is caculated by looking at the radiation incident on the panel which varries by the angle of the sunlight to the panel. However, given that the setup of the solar panel will have either a constant angle or adjust uniformly throughout the day each year and that the sun's path in the sky over each year will follow the same path, we know $G_T$ is proportional to GHI. As such our relative power $P_r$ is calculated by\n",
    "\n",
    "$$P_r = 400WGHI*[1+\\alpha*(T_c - 25\\degree C)]$$\n",
    "\n",
    "Source for $G_T$ from GHI and angles: https://www.homerenergy.com/products/pro/docs/3.11/how_homer_calculates_the_radiation_incident_on_the_pv_array.html\n",
    "\n",
    "$\\alpha$ is given by the manufature of the solar panel and for this example, we will use the value given for Polycrystalline silicon panels: -0.48[%/°C].\n",
    "\n",
    "Source for $\\alpha$ value: https://www.homerenergy.com/products/pro/docs/3.11/pv_temperature_coefficient_of_power.html\n",
    "\n",
    "The final piece we need is $T_c$. This is the difficult part and will be described below in the Next section"
   ]
  },
  {
   "cell_type": "markdown",
   "metadata": {},
   "source": [
    "### Getting the temperature of the Cell\n",
    "From the last section, we know the final piece to our equation to measure the importance of GHI and  ambient temperature is to find the temperature of the cell which is partly a function of the ambient temperature.\n",
    "\n",
    "$T_c$ is given by: $$T_c = T_a + G_T*\\frac{\\tau\\alpha}{U_L}(1-\\frac{\\eta}{\\tau\\alpha})$$\n",
    "Where:\n",
    "\t\n",
    "τ = the solar transmittance of any cover over the PV array [%]\n",
    "\n",
    "α = the solar absorptance of the PV array [%]\n",
    "\n",
    "$G_T$ = the solar radiation striking the PV array [kW/m2]\n",
    "\n",
    "η = the electrical conversion efficiency of the PV array [%]\n",
    "\n",
    "$U_L$ = the coefficient of heat transfer to the surroundings [kW/m2°C]\n",
    "\n",
    "$T_c$ = the PV cell temperature [°C]\n",
    "\n",
    "$T_a$ = the ambient temperature [°C]\n",
    "\n",
    "\n",
    "$\\textbf{Deducing our values}$\n",
    "\n",
    "$\\tau*\\alpha$ : 0.9, or 90%\n",
    "\n",
    "HOMER assumes a value of 0.9 for τα in the equation above, as Duffie and Beckman (1991) suggest. Because the term η/τα is small compared to unity, this assumption does not introduce significant error. Source: Duffie JA, Beckman WA (1991), Solar Engineering of Thermal Processes 2nd edition, Wiley, New York, NY\n",
    "\n",
    "$\\eta$: 0.2, or 20%\n",
    "\n",
    "From umich, we know a reasonable value for this is 15%-20% in commercial panels. We will use 20% for this project\n",
    "https://css.umich.edu/publications/factsheets/energy/photovoltaic-energy-factsheet#:~:text=PV%20conversion%20efficiency%20is%20the,that%20is%20converted%20to%20electricity.&text=Though%20most%20commercial%20panels%20have,cells%20with%20efficiencies%20approaching%2050%25.\n",
    "\n",
    "$G_T$:\n",
    "\n",
    "GHI\n",
    "\n",
    "$U_L$: $0.01kW/m^2\\degree C$\n",
    "\n",
    "This is tricky as it depends on the temperature of the ambient temperature air velocity, nu, and solar panel temperature. However, Homer provides a neat solution. We can express $\\frac{\\tau\\alpha}{U_L}$ as $$\\frac{\\tau\\alpha}{U_L} = \\frac{T_{c,NOCT}- T_{a,NOCT}}{G_{T,NOCT}}$$ (https://www.homerenergy.com/products/pro/docs/latest/how_homer_calculates_the_pv_cell_temperature.html).\n",
    "\n",
    "$T_{c,NOCT}$ = the nominal operating cell temperature [°C] (45-48 $\\degree C$) https://www.homerenergy.com/products/pro/docs/latest/pv_nominal_operating_cell_temperature.html. We will set this to 45°C as this is a feature of the cell and will be constant if the same cell type is used. This does restrict us to use one type of cell in comparison.\n",
    "\n",
    "$T_{a,NOCT}$ = the ambient temperature at which the NOCT is defined [20°C]\n",
    "\n",
    "$G_{T,NOCT}$ = the solar radiation at which the NOCT is defined [0.8 kW/m2]\n",
    "\n",
    "Thus, $$\\frac{\\tau\\alpha}{U_L} = \\frac{T_{c,NOCT}- T_{a,NOCT}}{G_{T,NOCT}} = (45-20)/0.8 = \\frac{32.25}{kW/m2°C}$$ \n",
    "and $$T_c = T_a+(GHI*(45-20)/0.8)*(1-20/90)$$\n",
    "\n",
    "As a result, our final equation is:\n",
    "$$ \n",
    "P_r = 400W GHI*[1-(0.48\\%/\\degree C)*[T_a + GHI*(\\frac{T_{c,NOCT}- T_{a,NOCT}}{G_{T,NOCT}})*(1-\\frac{20}{90}) - 25\\degree C]]\n",
    "$$\n",
    "Note that $P_r$ is measured in kW. We can also scale the whole equation by the Power rating of the cell ($Y_{PV}$). For example, we can consider our best cell rating of 450W. $\\textbf{We will scale our results by this (400W) in our code to get us closer to real world results}$ based on https://www.solar.com/learn/how-much-energy-does-a-solar-panel-produce/.\n",
    "\n",
    "\n",
    "From here, we can finally fill out our relative power metric column for the efficiency of the solar pannels given GHI and ambient air temperature.\n",
    "\n"
   ]
  },
  {
   "cell_type": "code",
   "execution_count": 27,
   "metadata": {},
   "outputs": [
    {
     "name": "stdout",
     "output_type": "stream",
     "text": [
      "Cell temp given ambient is 18 degrees: 42.30555555555556\n",
      "Efficency loss percentage given ambient is 18 degrees 8.306666666666667 %\n",
      "Efficiency of max output: 0.9169333333333334 , 1 kWh for 4.5 hours given ambient is 18 degrees: 1.6504800000000004 kWh/day\n",
      "\n",
      "\n",
      "Cell temp given ambient is 18 degrees: 24.305555555555557\n",
      "Efficency loss percentage given ambient is 18 degrees -0.33333333333333254 %\n",
      "Efficiency of max output: 1.0033333333333334 , 1 kWh for 4.5 hours given ambient is 18 degrees: 1.8060000000000003 kWh/day\n"
     ]
    }
   ],
   "source": [
    "def calcPV_example(ghi, temp):\n",
    "    #ghi: W/m^2\n",
    "    #temp: Ambient temperature Celcius \n",
    "    #returns cell temp and PV output for a 2\n",
    "    ghi = ghi/1000 #this is because nrel returns GHI in W/m^2, https://nsrdb.nrel.gov/data-sets/us-data\n",
    "    t_c = temp+(ghi*(45-20)/0.8)*(1-20/90)\n",
    "    return t_c, ghi*(1-.0048*(t_c-25))\n",
    "\n",
    "# We get these from the example locations in LA above\n",
    "ghi = float(1000.0) #peak outs\n",
    "temp = float(18.0)\n",
    "t_c, out= calcPV_example(ghi,temp)\n",
    "print(\"Cell temp given ambient is 18 degrees:\",t_c)\n",
    "print(\"Efficency loss percentage given ambient is 18 degrees\",(t_c-25)*0.48,\"%\")\n",
    "print(\"Efficiency of max output:\",out, \", 1 kWh for 4.5 hours given ambient is 18 degrees:\",out*.400*4.5,\"kWh/day\")\n",
    "\n",
    "print(\"\\n\")\n",
    "\n",
    "ghi = float(1000.0) #peak outs\n",
    "temp = float(0.0)\n",
    "t_c, out= calcPV_example(ghi,temp)\n",
    "print(\"Cell temp given ambient is 18 degrees:\",t_c)\n",
    "print(\"Efficency loss percentage given ambient is 18 degrees\",(t_c-25)*0.48,\"%\")\n",
    "print(\"Efficiency of max output:\",out, \", 1 kWh for 4.5 hours given ambient is 18 degrees:\",out*.400*4.5,\"kWh/day\")\n"
   ]
  },
  {
   "cell_type": "markdown",
   "metadata": {},
   "source": [
    "From our example using temp of 18 degrees in ambient temperature and peak sunlight hours with no cloud cover (~1000W from online sources previously listed), we get 1.6504kWh/day if our unit operates only during peak hours for 4.5 hours. These parameters are used just to make sure we match the example data given often by online resources for solar panel installation in homes. Using https://www.solar.com/learn/how-much-energy-does-a-solar-panel-produce/ as our example, we can see that we are within reasonable values. solar.com gives 1.800kWh/day but assumes maximum efficiency. The model accounts for cell temperature calculations and thus can tell we have a 8.3% efficiency decrease thus giving a lower PV output. If we set our ambient temperature $T_A$ to 0 degrees celcius, we can see cell temperature drops to ~25 degrees, the temperature the manufacture specified to expect 400W output at 1kW of solar radiation, and thus we perfectly match solar.coms results at 1.8kWh/day. I will further justify these results by comparing the estimations over years against SOTA systems.\n",
    "\n",
    "Lets apply this calculation by taking the GHI and temperature and multiplying it by 1 for each row to get the kWh/hr (in practice we just leave it). We then can sum the values for each day to get kWh/day. For our training data, this is sufficient. For our targets (y values in our regression) we calculate: Average kWh/day for the year, kWh/year, and kWh/month."
   ]
  },
  {
   "cell_type": "markdown",
   "metadata": {},
   "source": [
    "## Preprocess data for training:\n",
    "We can generate 15 data points for each long/lat pair (training is last 5 years, prediction is next year). To get a reasonable dataset, we will do this for 100 different long/lat pairs within a region. This gives us 1500 datapoints. We need to make 2000 API calls thus we will need to automate this step. First, lets process our data for one year using the example data for Los Angeles as given."
   ]
  },
  {
   "cell_type": "code",
   "execution_count": 13,
   "metadata": {},
   "outputs": [
    {
     "name": "stdout",
     "output_type": "stream",
     "text": [
      "lowest temperature 2.1\n",
      "Daily for Los Angeles \n",
      "    Year  Month  Day  Temp mean    GHI mean  PV kWh/day\n",
      "0  2019      1    1   7.529167  151.333333   14.633152\n",
      "1  2019      1    2   9.750000  147.208333   14.056564\n",
      "2  2019      1    3  10.775000  151.375000   14.338817\n",
      "3  2019      1    4  11.912500  148.000000   13.967583\n",
      "4  2019      1    5  11.758333   41.458333    4.136171\n",
      "Monthly for Los Angeles\n",
      "    Year  Month  Temp mean    GHI mean  PV kWh/month\n",
      "0  2019      1  13.057527  115.553763    339.329723\n",
      "1  2019      2  10.366071  141.532738    379.628972\n",
      "2  2019      3  13.820833  208.123656    595.106440\n",
      "3  2019      4  16.594028  254.502778    688.621421\n",
      "4  2019      5  16.125403  248.805108    696.927243\n",
      "7023.02081932\n"
     ]
    }
   ],
   "source": [
    "#Example for one year using API\n",
    "from APIs.data_processing import getData, addPV, hoursToDays, daysToMonths, hoursToMonths\n",
    "# Parameters\n",
    "api_key = 'KGQPxhHwezmhBj96AirFO6eKuzfP5DvQI7gFDWOk'\n",
    "your_name = 'andrew+xavier'\n",
    "your_affiliation = 'columbia+university'\n",
    "your_email = 'ahx2001@columbia.edu'\n",
    "lat = 34.0564 #33.2164\n",
    "lon = -118.2600 # -118.2437\n",
    "year = 2019\n",
    "cell_rating = 4 #0.400\n",
    "\n",
    "#Data processing\n",
    "df = getData(api_key, your_name, your_affiliation, your_email, lat=lat, lon = lon, year=year) #get raw data from nrel\n",
    "print(\"lowest temperature\", min(df[\"Temperature\"].values))\n",
    "df_pv = addPV(df,cell_rating=cell_rating) #Add PV calculated column\n",
    "df_pv_day = hoursToDays(df_pv) # Convert to day level granularity\n",
    "df_pv_month = daysToMonths(df_pv_day)\n",
    "print(\"Daily for Los Angeles \\n\",df_pv_day.head()) #display results\n",
    "print(\"Monthly for Los Angeles\\n\", hoursToMonths(df_pv).head())#faster version check\n",
    "print(np.sum(df_pv_month[\"PV kWh/month\"]))\n"
   ]
  },
  {
   "cell_type": "markdown",
   "metadata": {},
   "source": [
    "## Validate our results against SOTA\n",
    "We can use NREL's online calculator that leverage their SOTA SAM model to validate our approximation results. I use Los Angeles as my location and match the inputs for a 4kW cell system with no tilt and no system loss due to internal cell components (derating factor) as previously explained. "
   ]
  },
  {
   "cell_type": "code",
   "execution_count": 14,
   "metadata": {},
   "outputs": [],
   "source": [
    "#Validate against SOTA SAM model: https://pvwatts.nrel.gov/pvwatts.php\n",
    "from APIs.data_processing import getData, addPV, hoursToDays, daysToMonths, dataByLocation\n",
    "\n",
    "# Parameters\n",
    "api_key = 'KGQPxhHwezmhBj96AirFO6eKuzfP5DvQI7gFDWOk'\n",
    "your_name = 'andrew+xavier'\n",
    "your_affiliation = 'columbia+university'\n",
    "your_email = 'ahx2001@columbia.edu'\n",
    "lat = 34.0564 #33.2164\n",
    "lon = -118.2600 # -118.2437\n",
    "end_year = 2020\n",
    "cell_rating = 4 #0.400\n",
    "\n",
    "import pandas as pd\n",
    "data = dataByLocation(api_key, your_name, your_affiliation, your_email, lat, lon, cell_rating,end_year) #Get all years of data\n",
    "file_name = \"API_data/lon_lat{location}.csv\".format(location = lon+lat)\n",
    "data.to_csv(file_name, index = False)"
   ]
  },
  {
   "cell_type": "code",
   "execution_count": 26,
   "metadata": {},
   "outputs": [
    {
     "name": "stdout",
     "output_type": "stream",
     "text": [
      "Expected SOTA from SAM: 6,968. With a range from 6,639 to 7,114 kWh per year\n",
      "Our mean value: 7023.43 kWh/Year\n",
      "error % =  0.7954700393933352\n"
     ]
    }
   ],
   "source": [
    "df = pd.read_csv(file_name)\n",
    "df.columns\n",
    "print(\"Expected SOTA from SAM: 6,968. With a range from 6,639 to 7,114 kWh per year\")\n",
    "print(\"Our mean value:\",format(np.sum(df[\"PV kWh/month\"])/23,\".2f\"), \"kWh/Year\")\n",
    "print(\"error % = \", (abs(np.sum(df[\"PV kWh/month\"])/23 - 6968)/6968)*100)"
   ]
  },
  {
   "cell_type": "markdown",
   "metadata": {},
   "source": [
    "Our results are very close to the predictions for NREL's SAM model and well within its range of expected values!\n",
    "\n",
    "Now we have made sure all our API functions are working and online! Time to get data for many locations. These locations are the ones described in \"1 Map Visualization and Data Selection.ipynb\". The data points are saved in API_data."
   ]
  },
  {
   "cell_type": "markdown",
   "metadata": {},
   "source": [
    "**During the data gathering process, due to the large number of requests, it is possible for the script to fail due to request limits by NREL. To account for this, it is recommended to save data in sections as I have done and then concatinate the results.**"
   ]
  },
  {
   "cell_type": "code",
   "execution_count": 4,
   "metadata": {},
   "outputs": [
    {
     "name": "stdout",
     "output_type": "stream",
     "text": [
      "143\n",
      "144\n",
      "145\n",
      "146\n",
      "147\n",
      "148\n",
      "149\n",
      "150\n",
      "151\n",
      "152\n",
      "153\n",
      "154\n",
      "155\n",
      "156\n",
      "num training points 3864\n"
     ]
    }
   ],
   "source": [
    "#Generate training data across all points:\n",
    "\"\"\" \n",
    "Runtime is ~1min 30sec/point. Over 100 points takes around 150 minutes\n",
    "Adjust the overal\n",
    "\n",
    "Change the following two parameters as needed and the start and stop points in points below:\n",
    "\"\"\"\n",
    "\n",
    "file_name = \"API_data/x_train_all.csv\" #Change number to end point index\n",
    "lastpoint = 142 #set same as start time\n",
    "\n",
    "import pandas as pd\n",
    "from APIs.data_processing import getData, addPV, hoursToDays, daysToMonths, dataByLocation\n",
    "import ssl\n",
    "ssl._create_default_https_context = ssl._create_unverified_context\n",
    "# Parameters\n",
    "api_key = 'i6Pcob8Y47SEHUlKuyjPSu2zozcFv9ne0DuB8aw7'\n",
    "your_name = 'andrew+xavier'\n",
    "your_affiliation = 'columbia+university'\n",
    "your_email = 'ahx1@rice.edu'\n",
    "cell_rating = 0.400\n",
    "end_year = 2021 #data is 1998-end_year, max is 2021\n",
    "\n",
    "\n",
    "#generate lon lat points:\n",
    "lon = -104.0000 #for all values\n",
    "points = []\n",
    "#lat starts at 20.0000 and incriments by .045 each step\n",
    "for lat in range(20000, 27000, 45):\n",
    "    points.append([format(lat/1000,'.4f'), format(lon,'.4f')])\n",
    "# print(points[1], \"exected 20.0450, -104.0000\")\n",
    "\n",
    "\n",
    "#Generate all our points! This will run for an hour or so\n",
    "x_train = pd.DataFrame(columns=[\"Year\", \"Month\", \"Temp mean\", \"GHI mean\", \"PV kWh/month\"])\n",
    "for point in points[0:len(points)]: #Update this before running!!!!!!!!!!!!!!!!!!!! <----------------------- Leave as is for all points\n",
    "    lat = point[0]\n",
    "    lon = point[1]\n",
    "    data = dataByLocation(api_key, your_name, your_affiliation, your_email, lat, lon, cell_rating, end_year=end_year)\n",
    "    x_train = pd.concat([x_train, data])\n",
    "    x_train.to_csv(file_name, index = False)\n",
    "    lastpoint += 1\n",
    "    print(lastpoint)\n",
    "print(\"num training points\", len(x_train))\n"
   ]
  },
  {
   "cell_type": "code",
   "execution_count": 3,
   "metadata": {},
   "outputs": [],
   "source": [
    "#Concat data for final set\n",
    "import pandas as pd\n",
    "df = pd.read_csv(\"API_data/x_train_10.csv\")\n",
    "df = pd.concat([df, pd.read_csv(\"API_data/x_train_50.csv\")])\n",
    "df = pd.concat([df, pd.read_csv(\"API_data/x_train_59.csv\")])\n",
    "df = pd.concat([df, pd.read_csv(\"API_data/x_train_120.csv\")])\n",
    "df = pd.concat([df, pd.read_csv(\"API_data/x_train_142.csv\")])\n",
    "df = pd.concat([df, pd.read_csv(\"API_data/x_train_156.csv\")])\n",
    "df.to_csv(\"API_data/x_train.csv\",index=False)"
   ]
  },
  {
   "cell_type": "markdown",
   "metadata": {},
   "source": [
    "## Modeling\n",
    "I use a simple linear regression model to create my predictions with my features being previous values and my targets being the relative PV out values for months for various numbers of years into the future. This is best for filling in missing data points"
   ]
  },
  {
   "cell_type": "code",
   "execution_count": 192,
   "metadata": {},
   "outputs": [
    {
     "name": "stdout",
     "output_type": "stream",
     "text": [
      "shape of x_train (1996, 420)\n",
      "shape of y_train (1996, 12)\n",
      "\n",
      "\n",
      "score on training (R2), closer to 1 is better: 0.9934\n",
      "score on testing (R2), closer to 1 is better: 0.9572\n",
      "Predictions for power output PV (kWh/month) for each month in 3 year(s) after 2020 in location lat long = [  26.975 -104.   ]\n",
      "Jan 52.84803375012001 kWh/Month\n",
      "Feb 53.695330304146665 kWh/Month\n",
      "March 72.36685895597336 kWh/Month\n",
      "April 80.03798227157331 kWh/Month\n",
      "May 87.4313168206667 kWh/Month\n",
      "June 80.34497632754666 kWh/Month\n",
      "July 79.63917093176 kWh/Month\n",
      "Aug 78.78815128318668 kWh/Month\n",
      "Sept 63.685693962453364 kWh/Month\n",
      "Oct 61.87905598909334 kWh/Month\n",
      "Nov 51.719745228560015 kWh/Month\n",
      "Dec 50.71919702717335 kWh/Month\n"
     ]
    }
   ],
   "source": [
    "from sklearn.linear_model import LinearRegression\n",
    "from sklearn.ensemble import RandomForestRegressor\n",
    "from sklearn.model_selection import train_test_split\n",
    "from sklearn import preprocessing\n",
    "import numpy as np\n",
    "\n",
    "########################################################################################################################\n",
    "#PARAMETERS:\n",
    "years_ahead = 3 # How far in the future we should predict in years (1-22). Ex 1 means predict 1 values for 1 year in the future.\n",
    "num_years = 5 #Number of years used to predict future values. Ranges from 1 to 23 minus the years_ahead \n",
    "\n",
    "##Combinations to try: \n",
    "# Use 7 years to predict, predict 2 years ahead (decent)\n",
    "# Use 10 years to predict, predict 4 years ahead\n",
    "# Use 1 years to predict, predict 1 years ahead (Underfitting)\n",
    "# Use 15 years to predict, predict 1 year ahead (Overfitting)\n",
    "\n",
    "########################################################################################################################\n",
    "\n",
    "\n",
    "x_set = [] #our inputs to train\n",
    "y_set = [] #our inputs to train\n",
    "\n",
    "df = pd.read_csv(\"API_data/x_train.csv\") #read in our data\n",
    "########\n",
    "#TO DO:\n",
    "#Create train-test split to validate on later. Right now just training\n",
    "########\n",
    "\n",
    "\n",
    "#generate lon lat points NEED TO UPDATE THIS FOR TRAIN TEST SPLIT!:\n",
    "lon = -104.0000 #for all values\n",
    "points = []\n",
    "#lat starts at 20.0000 and incriments by .045 each step\n",
    "for lat in range(20000, 27000, 45):\n",
    "    points.append([format(lat/1000,'.4f'), format(lon,'.4f')])\n",
    "\n",
    "for location in points: #iterate over each point to build point prediction pairs\n",
    "    df_loc = df.loc[(df['lat'] == float(location[0])) & (df['lon'] == float(location[1]))] #select location\n",
    "    X = df_loc.values\n",
    "    X = preprocessing.normalize(X) #normalize test set\n",
    "    y = df_loc[\"PV kWh/month\"].tolist()\n",
    "    for i in range(len(X)//12 - num_years-years_ahead+1):\n",
    "        x_set.append(X[i*12:i*12+12*num_years].flatten())\n",
    "        y_set.append(y[i*12+12*num_years+12*(years_ahead-1):i*12+12*num_years+12+12*(years_ahead-1)])\n",
    "\n",
    "#train test split:\n",
    "x_train, x_test, y_train, y_test = train_test_split(x_set, y_set, test_size=0.20,shuffle=True,random_state = 20)\n",
    "\n",
    "#convert to array\n",
    "x_train = np.asarray(x_train)\n",
    "y_train = np.asarray(y_train)\n",
    "x_test = np.asarray(x_test)\n",
    "y_test = np.asarray(y_test)\n",
    "\n",
    "print(\"shape of x_train\",x_train.shape)\n",
    "print(\"shape of y_train\", y_train.shape)\n",
    "# print(\"num of points to predict used correct?\", x_train.shape[1]/(12*7) == num_years)\n",
    "print(\"\\n\")\n",
    "#train model\n",
    "\n",
    "reg = RandomForestRegressor(random_state=0).fit(x_train,y_train) #can switch out with a LinearRegression() \n",
    "print(\"score on training (R2), closer to 1 is better:\", format(reg.score(x_train,y_train),'.4f'))\n",
    "print(\"score on testing (R2), closer to 1 is better:\", format(reg.score(x_test,y_test),'.4f'))\n",
    "\n",
    "#Testing\n",
    "x_test = preprocessing.normalize(df.values)[-num_years*12:].flatten()\n",
    "print(\"Predictions for power output PV (kWh/month) for each month in\", years_ahead ,\"year(s) after\", int((df.values)[-num_years*12:].flatten()[-7]),\"in location lat long =\", (df.values)[-num_years*12:].flatten()[-2:]) \n",
    "prediction = reg.predict([x_test])[0]\n",
    "months = [\"Jan\", \"Feb\", \"March\", \"April\", \"May\", \"June\", \"July\", \"Aug\", \"Sept\", \"Oct\", \"Nov\", \"Dec\"]\n",
    "tab = [] #just for LaTeX output \n",
    "for index, month in enumerate(months):\n",
    "    print(month,prediction[index],\"kWh/Month\")\n",
    "    tab.append([month,prediction[index],\"kWh/Month\"])\n",
    "\n"
   ]
  },
  {
   "cell_type": "markdown",
   "metadata": {},
   "source": [
    "## Not including temporal mix\n",
    "In order to use our model to predict for points in the future, we must isolate its training data temporaly."
   ]
  },
  {
   "cell_type": "code",
   "execution_count": 57,
   "metadata": {},
   "outputs": [
    {
     "name": "stdout",
     "output_type": "stream",
     "text": [
      "shape of x_train (1872, 840)\n",
      "shape of y_train (1872, 12)\n",
      "\n",
      "\n",
      "score on training (R2), closer to 1 is better: 0.3286\n",
      "score on testing (R2), closer to 1 is better: -3.0607\n",
      "Predictions for power output PV (kWh/month) for each month in 1 year(s) after 2020 in location lat long = [  26.975 -104.   ]\n",
      "predicted Jan 50.35866639970251 kWh/Month True Jan 48.677702292000006 kWh/Month\n",
      "predicted Feb 53.03325808964786 kWh/Month True Feb 54.250876825333336 kWh/Month\n",
      "predicted March 71.78966229769627 kWh/Month True March 65.38398722266666 kWh/Month\n",
      "predicted April 78.59060085134101 kWh/Month True April 76.48001033733334 kWh/Month\n",
      "predicted May 85.90976398887449 kWh/Month True May 87.66101766266667 kWh/Month\n",
      "predicted June 77.59701977443622 kWh/Month True June 80.39550647066667 kWh/Month\n",
      "predicted July 82.19858242987034 kWh/Month True July 79.77037213866667 kWh/Month\n",
      "predicted Aug 80.00729611835781 kWh/Month True Aug 82.68266143600002 kWh/Month\n",
      "predicted Sept 66.62728994120593 kWh/Month True Sept 63.10631262933333 kWh/Month\n",
      "predicted Oct 59.13842216245745 kWh/Month True Oct 67.40261739733333 kWh/Month\n",
      "predicted Nov 51.85420590463039 kWh/Month True Nov 54.57293636 kWh/Month\n",
      "predicted Dec 49.928496228793 kWh/Month True Dec 52.731597918666665 kWh/Month\n"
     ]
    }
   ],
   "source": [
    "from sklearn.linear_model import LinearRegression\n",
    "from sklearn.ensemble import RandomForestRegressor\n",
    "from sklearn.model_selection import train_test_split\n",
    "from sklearn import preprocessing\n",
    "import numpy as np\n",
    "import pandas as pd\n",
    "\n",
    "########################################################################################################################\n",
    "#PARAMETERS:\n",
    "years_ahead = 1 # MUST be 1 in this case\n",
    "num_years = 10 #Number of years used to predict future values. Ranges from 1 to 23 minus the years_ahead \n",
    "\n",
    "##Combinations to try: \n",
    "# Use 7 years to predict, predict 2 years ahead (decent)\n",
    "# Use 10 years to predict, predict 4 years ahead\n",
    "# Use 1 years to predict, predict 1 years ahead (Underfitting)\n",
    "# Use 15 years to predict, predict 1 year ahead (Overfitting)\n",
    "\n",
    "########################################################################################################################\n",
    "\n",
    "\n",
    "x_set = [] #our inputs to train\n",
    "y_set = [] #our inputs to train\n",
    "\n",
    "df = pd.read_csv(\"API_data/x_train.csv\") #read in our data\n",
    "\n",
    "\n",
    "#generate lon lat points NEED TO UPDATE THIS FOR TRAIN TEST SPLIT!:\n",
    "lon = -104.0000 #for all values\n",
    "points = []\n",
    "#lat starts at 20.0000 and incriments by .045 each step\n",
    "for lat in range(20000, 27000, 45):\n",
    "    points.append([format(lat/1000,'.4f'), format(lon,'.4f')])\n",
    "x_test = [] #to generate test set\n",
    "y_test = []\n",
    "for location in points: #iterate over each point to build point prediction pairs\n",
    "    df_loc = df.loc[(df['lat'] == float(location[0])) & (df['lon'] == float(location[1])) & (df[\"Year\"] != 2020)] #select location\n",
    "    X = df_loc.values\n",
    "    X = preprocessing.normalize(X)\n",
    "    #  #normalize test set\n",
    "    y = df_loc[\"PV kWh/month\"].tolist()\n",
    "    x_test.append(X[-12*num_years:].flatten()) #want the last num_years for each location for testing\n",
    "    for i in range(len(X)//12 - num_years-years_ahead+1):\n",
    "        x_set.append(X[i*12:i*12+12*num_years].flatten())\n",
    "        y_set.append(y[i*12+12*num_years+12*(years_ahead-1):i*12+12*num_years+12+12*(years_ahead-1)])\n",
    "\n",
    "    df_loc = df.loc[(df['lat'] == float(location[0])) & (df['lon'] == float(location[1])) & (df[\"Year\"] == 2020)] #select location\n",
    "    y = df_loc[\"PV kWh/month\"].tolist()# want the next year\n",
    "    y_test.append(y)\n",
    "\n",
    "\n",
    "#convert to array\n",
    "x_train = np.asarray(x_set)\n",
    "y_train = np.asarray(y_set)\n",
    "x_test = np.asarray(x_test)\n",
    "y_test = np.asarray(y_test)\n",
    "\n",
    "print(\"shape of x_train\",x_train.shape)\n",
    "print(\"shape of y_train\", y_train.shape)\n",
    "# print(\"num of points to predict used correct?\", x_train.shape[1]/(12*7) == num_years)\n",
    "print(\"\\n\")\n",
    "\n",
    "#train model\n",
    "reg = RandomForestRegressor(max_depth=2).fit(x_train,y_train) #can switch out with a LinearRegression() \n",
    "print(\"score on training (R2), closer to 1 is better:\", format(reg.score(x_train,y_train),'.4f'))\n",
    "print(\"score on testing (R2), closer to 1 is better:\", format(reg.score(x_test,y_test),'.4f'))\n",
    "\n",
    "#Testing\n",
    "x_test = preprocessing.normalize(df.values)[-num_years*12:].flatten()\n",
    "y_test = y_test[-1]\n",
    "print(\"Predictions for power output PV (kWh/month) for each month in\", years_ahead ,\"year(s) after\", int((df.values)[-num_years*12:].flatten()[-7]),\"in location lat long =\", (df.values)[-num_years*12:].flatten()[-2:]) \n",
    "prediction = reg.predict([x_test])[0]\n",
    "months = [\"Jan\", \"Feb\", \"March\", \"April\", \"May\", \"June\", \"July\", \"Aug\", \"Sept\", \"Oct\", \"Nov\", \"Dec\"]\n",
    "tab = [] #just for LaTeX output \n",
    "for index, month in enumerate(months):\n",
    "    print(\"Predicted\",month,prediction[index],\"kWh/Month\", \"True\",month,y_test[index],\"kWh/Month\")\n",
    "    tab.append([month,prediction[index],\"kWh/Month\"])\n",
    "\n",
    "\n",
    "\n"
   ]
  },
  {
   "cell_type": "markdown",
   "metadata": {},
   "source": [
    "# Conclusion\n",
    "We can see our test score is negative when we isolate our data temporally! What this means is that our predictions were, on average, worse than if we just guessed the mean of the previous data points. However, we can see our predictions are not dramatically off from the actual values. What is likely the case, is there there is not statistically correlation between time (in the last 20 years) and the PV output potential for various locations. While dissapointing for the model's predictive power, in a way this is not a bad result as had the model picked up a generalized trend, it would likely correspond to dramatic changes in our climate as the features that determine PV are those deriving from climate. However, given more years of data, it is likely the model would see the 0.18 C increase in global temperature per year since 1880 which is more subtle. "
   ]
  },
  {
   "cell_type": "markdown",
   "metadata": {},
   "source": [
    "### Note that this still allows us to complete our objective of choosing good locations to build solar panels at\n",
    "The results for this area just happens to be best determined by choosing the location with the currently best PV output history and our model helps validate that approach. In fact, if we look at our example from comparing to SOTA, if we use the mean of our calculations, our error is only 0.79%. "
   ]
  },
  {
   "cell_type": "code",
   "execution_count": 5,
   "metadata": {},
   "outputs": [
    {
     "name": "stdout",
     "output_type": "stream",
     "text": [
      "['20.0000', '-104.0000'] 779.8614038832465\n",
      "['20.0450', '-104.0000'] 795.7640997696811\n",
      "['20.0900', '-104.0000'] 797.3016455908986\n",
      "['20.2700', '-104.0000'] 806.1674369813915\n",
      "['20.3150', '-104.0000'] 822.0396409086377\n",
      "['20.4050', '-104.0000'] 833.5049596979131\n",
      "['20.7200', '-104.0000'] 835.3512119773333\n",
      "['20.9900', '-104.0000'] 841.1996682281161\n",
      "['21.3500', '-104.0000'] 841.2258722550724\n",
      "['21.3950', '-104.0000'] 847.8422960369855\n",
      "['21.4400', '-104.0000'] 858.2725860794784\n",
      "Best Location ['21.4400', '-104.0000']\n",
      "Expected Annual PV output in kWh/Year: 858.2725860794784\n"
     ]
    }
   ],
   "source": [
    "from sklearn.linear_model import LinearRegression\n",
    "from sklearn.ensemble import RandomForestRegressor\n",
    "from sklearn.model_selection import train_test_split\n",
    "from sklearn import preprocessing\n",
    "import numpy as np\n",
    "import pandas as pd\n",
    "df = pd.read_csv(\"API_data/x_train.csv\") #read in our data\n",
    "\n",
    "best_point = [] #\n",
    "best_PV = 0 #\n",
    "#generate lon lat points NEED TO UPDATE THIS FOR TRAIN TEST SPLIT!:\n",
    "lon = -104.0000 #for all values\n",
    "points = []\n",
    "#lat starts at 20.0000 and incriments by .045 each step\n",
    "for lat in range(20000, 27000, 45):\n",
    "    points.append([format(lat/1000,'.4f'), format(lon,'.4f')])\n",
    "\n",
    "for location in points: #iterate over each point to build point prediction pairs\n",
    "    df_loc = df.loc[(df['lat'] == float(location[0])) & (df['lon'] == float(location[1])) ]\n",
    "    monthly_data = df_loc[\"PV kWh/month\"].values.tolist()\n",
    "    prediction = np.sum(monthly_data)/23\n",
    "    if prediction > best_PV:\n",
    "        print(location,prediction)\n",
    "        best_PV = prediction\n",
    "        best_point = location\n",
    "\n",
    "print(\"Best Location\", best_point)\n",
    "print(\"Expected Annual PV output in kWh/Year:\", best_PV)\n"
   ]
  },
  {
   "cell_type": "markdown",
   "metadata": {},
   "source": [
    "## LaTeX and trend observations"
   ]
  },
  {
   "cell_type": "code",
   "execution_count": 170,
   "metadata": {},
   "outputs": [
    {
     "name": "stdout",
     "output_type": "stream",
     "text": [
      "\\begin{tabular}{lrl}\n",
      "\\hline\n",
      " Jan   & 53.11 & kWh/Month \\\\\n",
      " Feb   & 52.86 & kWh/Month \\\\\n",
      " March & 72.34 & kWh/Month \\\\\n",
      " April & 79.46 & kWh/Month \\\\\n",
      " May   & 86.75 & kWh/Month \\\\\n",
      " June  & 80.23 & kWh/Month \\\\\n",
      " July  & 79.96 & kWh/Month \\\\\n",
      " Aug   & 79.37 & kWh/Month \\\\\n",
      " Sept  & 64.09 & kWh/Month \\\\\n",
      " Oct   & 60.28 & kWh/Month \\\\\n",
      " Nov   & 52.39 & kWh/Month \\\\\n",
      " Dec   & 50.66 & kWh/Month \\\\\n",
      "\\hline\n",
      "\\end{tabular}\n"
     ]
    }
   ],
   "source": [
    "#LATEX ouputs\n",
    "import scipy\n",
    "from tabulate import tabulate\n",
    "print(tabulate(tab, tablefmt=\"latex\", floatfmt=\".2f\"))"
   ]
  },
  {
   "cell_type": "code",
   "execution_count": 189,
   "metadata": {},
   "outputs": [
    {
     "data": {
      "text/plain": [
       "Text(0.5, 1.0, \"PV output for January over years since 1998 for lat/long =['20.0000', '-104.0000']\")"
      ]
     },
     "execution_count": 189,
     "metadata": {},
     "output_type": "execute_result"
    },
    {
     "data": {
      "image/png": "[encoded data removed]",
      "text/plain": [
       "<Figure size 640x480 with 1 Axes>"
      ]
     },
     "metadata": {},
     "output_type": "display_data"
    }
   ],
   "source": [
    "import matplotlib.pyplot as plt\n",
    "location = points[0]\n",
    "df_loc = df.loc[(df['lat'] == float(location[0])) & (df['lon'] == float(location[1])) &(df[\"Month\"]==1)]\n",
    "y = df_loc[\"PV kWh/month\"].tolist()\n",
    "plt.plot(y)\n",
    "plt.title('PV output for January over years since 1998 for lat/long ={loc}'.format(loc=location))\n"
   ]
  },
  {
   "cell_type": "markdown",
   "metadata": {},
   "source": [
    "#### Experimentation with simple autoregressive models"
   ]
  },
  {
   "cell_type": "code",
   "execution_count": 40,
   "metadata": {},
   "outputs": [
    {
     "name": "stdout",
     "output_type": "stream",
     "text": [
      "0.5751978666174752\n"
     ]
    }
   ],
   "source": [
    "\n",
    "import matplotlib.pyplot as plt\n",
    "from sklearn import linear_model\n",
    "import numpy as np\n",
    "location = points[0]\n",
    "avg_score = []\n",
    "for location in points:\n",
    "    df_loc = df.loc[(df['lat'] == float(location[0])) & (df['lon'] == float(location[1])) & (df[\"Year\"] != 2020)]\n",
    "    X = df_loc[[\"Month\",\"Temp mean\"]].values.tolist()\n",
    "    y = df_loc[\"PV kWh/month\"].tolist()\n",
    "    clf = linear_model.ARDRegression()\n",
    "    clf.fit(X, y)\n",
    "    # print(clf.score(X,y))\n",
    "    df_loc = df.loc[(df['lat'] == float(location[0])) & (df['lon'] == float(location[1])) & (df[\"Year\"] == 2020)]\n",
    "    X = df_loc[[\"Month\",\"Temp mean\"]].values.tolist()\n",
    "    y = df_loc[\"PV kWh/month\"].tolist()\n",
    "    avg_score.append(clf.score(X,y))\n",
    "    # print(clf.predict(X)[0],y[0])\n",
    "    if abs(clf.predict(X)[0]- y[0]) < 2:\n",
    "        print(\"match\")\n",
    "print(np.mean(avg_score))\n",
    "\n"
   ]
  },
  {
   "cell_type": "code",
   "execution_count": null,
   "metadata": {},
   "outputs": [],
   "source": []
  }
 ],
 "metadata": {
  "kernelspec": {
   "display_name": "Python 3.9.13 64-bit",
   "language": "python",
   "name": "python3"
  },
  "language_info": {
   "codemirror_mode": {
    "name": "ipython",
    "version": 3
   },
   "file_extension": ".py",
   "mimetype": "text/x-python",
   "name": "python",
   "nbconvert_exporter": "python",
   "pygments_lexer": "ipython3",
   "version": "3.9.13"
  },
  "orig_nbformat": 4,
  "vscode": {
   "interpreter": {
    "hash": "08e595c52ca3b9470036b1110e67b559e55f367cabc363f2e28d35631ed95060"
   }
  }
 },
 "nbformat": 4,
 "nbformat_minor": 2
}
