{
 "cells": [
  {
   "cell_type": "markdown",
   "id": "1689a24a",
   "metadata": {},
   "source": [
    "## Import and read csv using file managment system"
   ]
  },
  {
   "cell_type": "code",
   "execution_count": 1,
   "id": "99a11830",
   "metadata": {},
   "outputs": [],
   "source": [
    "import sys\n",
    "import os\n",
    "import pandas as pd\n"
   ]
  },
  {
   "cell_type": "code",
   "execution_count": 2,
   "id": "9f0d7a64",
   "metadata": {},
   "outputs": [
    {
     "data": {
      "text/plain": [
       "['d:\\\\Columbia 2022\\\\Climate\\\\PROJECT and Repo\\\\ML-Climate-Project-Template-Fall2022\\\\src\\\\Notebooks',\n",
       " 'c:\\\\Users\\\\andre\\\\AppData\\\\Local\\\\Programs\\\\Python\\\\Python39\\\\python39.zip',\n",
       " 'c:\\\\Users\\\\andre\\\\AppData\\\\Local\\\\Programs\\\\Python\\\\Python39\\\\DLLs',\n",
       " 'c:\\\\Users\\\\andre\\\\AppData\\\\Local\\\\Programs\\\\Python\\\\Python39\\\\lib',\n",
       " 'c:\\\\Users\\\\andre\\\\AppData\\\\Local\\\\Programs\\\\Python\\\\Python39',\n",
       " '',\n",
       " 'C:\\\\Users\\\\andre\\\\AppData\\\\Roaming\\\\Python\\\\Python39\\\\site-packages',\n",
       " 'c:\\\\Users\\\\andre\\\\AppData\\\\Local\\\\Programs\\\\Python\\\\Python39\\\\lib\\\\site-packages',\n",
       " 'c:\\\\Users\\\\andre\\\\AppData\\\\Local\\\\Programs\\\\Python\\\\Python39\\\\lib\\\\site-packages\\\\pip-21.3.1-py3.9.egg',\n",
       " 'c:\\\\Users\\\\andre\\\\AppData\\\\Local\\\\Programs\\\\Python\\\\Python39\\\\lib\\\\site-packages\\\\win32',\n",
       " 'c:\\\\Users\\\\andre\\\\AppData\\\\Local\\\\Programs\\\\Python\\\\Python39\\\\lib\\\\site-packages\\\\win32\\\\lib',\n",
       " 'c:\\\\Users\\\\andre\\\\AppData\\\\Local\\\\Programs\\\\Python\\\\Python39\\\\lib\\\\site-packages\\\\Pythonwin',\n",
       " 'c:\\\\Users\\\\andre\\\\AppData\\\\Local\\\\Programs\\\\Python\\\\Python39\\\\lib\\\\site-packages\\\\IPython\\\\extensions',\n",
       " 'C:\\\\Users\\\\andre\\\\.ipython']"
      ]
     },
     "execution_count": 2,
     "metadata": {},
     "output_type": "execute_result"
    }
   ],
   "source": [
    "#Add sample data to path\n",
    "# sys.path.insert(1, \"D:\\Columbia 2022\\Climate\\PROJECT and Repo\\ML-Climate-Project-Template-Fall2022\\src\\Datasets\\sample_data\\data\")\n",
    "sys.path"
   ]
  },
  {
   "cell_type": "code",
   "execution_count": 3,
   "id": "a3b80535",
   "metadata": {},
   "outputs": [
    {
     "name": "stdout",
     "output_type": "stream",
     "text": [
      "d:\\Columbia 2022\\Climate\\PROJECT and Repo\\ML-Climate-Project-Template-Fall2022\\src\\Notebooks\n"
     ]
    }
   ],
   "source": [
    "# df = pd.read_csv(\"..\\Datasets\\sample_data\\data\\525682_31.49_-103.38_2010.csv\")\n",
    "print(os.getcwd())"
   ]
  },
  {
   "cell_type": "code",
   "execution_count": 4,
   "id": "95d23bd3",
   "metadata": {},
   "outputs": [],
   "source": [
    "#Test reading from datat folder\n",
    "df = pd.read_csv(r\"D:\\Columbia 2022\\Climate\\PROJECT and Repo\\ML-Climate-Project-Template-Fall2022\\src\\Datasets\\sample_data\\data\\525682_31.49_-103.38_2010.csv\",\n",
    "                engine='python')"
   ]
  },
  {
   "cell_type": "code",
   "execution_count": 5,
   "id": "a867911f",
   "metadata": {},
   "outputs": [
    {
     "name": "stdout",
     "output_type": "stream",
     "text": [
      "['Source' 'Location ID' 'City' 'State' 'Country' 'Latitude' 'Longitude'\n",
      " 'Time Zone' 'Elevation' 'Local Time Zone' 'Clearsky DHI Units'\n",
      " 'Clearsky DNI Units' 'Clearsky GHI Units' 'Dew Point Units' 'DHI Units'\n",
      " 'DNI Units' 'GHI Units' 'Solar Zenith Angle Units' 'Temperature Units'\n",
      " 'Pressure Units' 'Relative Humidity Units' 'Precipitable Water Units'\n",
      " 'Wind Direction Units' 'Wind Speed Units' 'Cloud Type -15' 'Cloud Type 0'\n",
      " 'Cloud Type 1' 'Cloud Type 2' 'Cloud Type 3' 'Cloud Type 4'\n",
      " 'Cloud Type 5' 'Cloud Type 6' 'Cloud Type 7' 'Cloud Type 8'\n",
      " 'Cloud Type 9' 'Cloud Type 10' 'Cloud Type 11' 'Cloud Type 12'\n",
      " 'Fill Flag 0' 'Fill Flag 1' 'Fill Flag 2' 'Fill Flag 3' 'Fill Flag 4'\n",
      " 'Fill Flag 5' 'Surface Albedo Units' 'Version']\n"
     ]
    },
    {
     "data": {
      "text/plain": [
       "\"\\nResults: \\n['Source' 'Location ID' 'City' 'State' 'Country' 'Latitude' 'Longitude'\\n 'Time Zone' 'Elevation' 'Local Time Zone' 'Clearsky DHI Units'\\n 'Clearsky DNI Units' 'Clearsky GHI Units' 'Dew Point Units' 'DHI Units'\\n 'DNI Units' 'GHI Units' 'Solar Zenith Angle Units' 'Temperature Units'\\n 'Pressure Units' 'Relative Humidity Units' 'Precipitable Water Units'\\n 'Wind Direction Units' 'Wind Speed Units' 'Cloud Type -15' 'Cloud Type 0'\\n 'Cloud Type 1' 'Cloud Type 2' 'Cloud Type 3' 'Cloud Type 4'\\n 'Cloud Type 5' 'Cloud Type 6' 'Cloud Type 7' 'Cloud Type 8'\\n 'Cloud Type 9' 'Cloud Type 10' 'Cloud Type 11' 'Cloud Type 12'\\n 'Fill Flag 0' 'Fill Flag 1' 'Fill Flag 2' 'Fill Flag 3' 'Fill Flag 4'\\n 'Fill Flag 5' 'Surface Albedo Units' 'Version']\\n\""
      ]
     },
     "execution_count": 5,
     "metadata": {},
     "output_type": "execute_result"
    }
   ],
   "source": [
    "#Testing on dataset\n",
    "df = pd.read_csv('test.csv', engine='python' )\n",
    "print(df.columns.values) \n",
    "\"\"\"\n",
    "Results: \n",
    "['Source' 'Location ID' 'City' 'State' 'Country' 'Latitude' 'Longitude'\n",
    " 'Time Zone' 'Elevation' 'Local Time Zone' 'Clearsky DHI Units'\n",
    " 'Clearsky DNI Units' 'Clearsky GHI Units' 'Dew Point Units' 'DHI Units'\n",
    " 'DNI Units' 'GHI Units' 'Solar Zenith Angle Units' 'Temperature Units'\n",
    " 'Pressure Units' 'Relative Humidity Units' 'Precipitable Water Units'\n",
    " 'Wind Direction Units' 'Wind Speed Units' 'Cloud Type -15' 'Cloud Type 0'\n",
    " 'Cloud Type 1' 'Cloud Type 2' 'Cloud Type 3' 'Cloud Type 4'\n",
    " 'Cloud Type 5' 'Cloud Type 6' 'Cloud Type 7' 'Cloud Type 8'\n",
    " 'Cloud Type 9' 'Cloud Type 10' 'Cloud Type 11' 'Cloud Type 12'\n",
    " 'Fill Flag 0' 'Fill Flag 1' 'Fill Flag 2' 'Fill Flag 3' 'Fill Flag 4'\n",
    " 'Fill Flag 5' 'Surface Albedo Units' 'Version']\n",
    "\"\"\"\n",
    "\n",
    "#We can clearly see we need to do some data cleanup. \n"
   ]
  },
  {
   "cell_type": "code",
   "execution_count": 6,
   "id": "ac0a6727",
   "metadata": {},
   "outputs": [],
   "source": [
    "#Adjust csv: We remove the first two rows as these contain information about the location, but should not be headers \n",
    "# of the time based data\n",
    "with open(\"test.csv\",'r') as f:\n",
    "    with open(\"updated_test.csv\",'w') as f1:\n",
    "        next(f)\n",
    "        next(f) # skip header line\n",
    "        for line in f:\n",
    "            f1.write(line)"
   ]
  },
  {
   "cell_type": "code",
   "execution_count": 20,
   "id": "c21743d9",
   "metadata": {},
   "outputs": [
    {
     "data": {
      "text/plain": [
       "\"\\nResults:\\n['Year' 'Month' 'Day' 'Hour' 'Minute' 'DHI' 'DNI' 'Temperature' 'GHI']\\n\""
      ]
     },
     "execution_count": 20,
     "metadata": {},
     "output_type": "execute_result"
    }
   ],
   "source": [
    "df_full = pd.read_csv('updated_test.csv', engine='python' )\n",
    "# print(df_full.columns.values) \n",
    "\"\"\"\n",
    "Results:\n",
    "['Year' 'Month' 'Day' 'Hour' 'Minute' 'DHI' 'DNI' 'Temperature' 'GHI']\n",
    "\"\"\"\n",
    "#This is the format we want."
   ]
  },
  {
   "cell_type": "markdown",
   "id": "bb71b0af",
   "metadata": {},
   "source": [
    "## EDA: Define a Measure\n",
    "We must consider how we want to look at overlapping temp and GHI. As they but varry quite a bit over even just the 30 minute block, it is hard to tell how we determine the quality of absorbtion over a day. We could just take the average but, if the temperature was very high during the GHI's peak, then we might have a poor metric of it was very cold over the rest of a day. This also might not generalize. As such, we do EDA to look at the data's performance"
   ]
  },
  {
   "cell_type": "code",
   "execution_count": 37,
   "id": "24fad061",
   "metadata": {},
   "outputs": [
    {
     "data": {
      "image/png": "[encoded data removed]",
      "text/plain": [
       "<Figure size 216x216 with 1 Axes>"
      ]
     },
     "metadata": {
      "needs_background": "light"
     },
     "output_type": "display_data"
    },
    {
     "data": {
      "image/png": "[encoded data removed]",
      "text/plain": [
       "<Figure size 216x216 with 1 Axes>"
      ]
     },
     "metadata": {
      "needs_background": "light"
     },
     "output_type": "display_data"
    }
   ],
   "source": [
    "# Look at a single day and only where GHI is not 0:\n",
    "df = df_full\n",
    "df = df.loc[df['Month'] == 2]\n",
    "df = df.loc[df['Day'] == 8]\n",
    "df = df.loc[df['GHI'] != 0]\n",
    "df\n",
    "\n",
    "#look at relationship between GHI and Temp:\n",
    "df.plot(x=\"Hour\", y=[\"Temperature\"],\n",
    "        kind=\"line\", figsize=(3, 3))\n",
    "df.plot(x=\"Hour\", y=[\"GHI\"],\n",
    "        kind=\"line\", figsize=(3, 3))\n",
    " \n",
    "\n",
    "#Keep information\n",
    "ghi_sum = df['GHI'].sum() #sum of GHI"
   ]
  },
  {
   "cell_type": "markdown",
   "id": "46e6b2d9",
   "metadata": {},
   "source": [
    "As we can see, there are cases where variation in temperature doesn't correlate with variation in GHI. Why is this an issue? If we blindly take the average GHI and average temperature for the day, we may not capture how the two actually interact. For example, if we have notably cold nights, our average temperature will be lower thus incorrectly indicating a better efficiency when we just use the averages, even if the temperature during the day is the same. As such, we will look over each day by summing the PO over each 30 minute block to calculate the true relative power output. This will be explained and implimented in \"Data and Modeling\"."
   ]
  },
  {
   "cell_type": "code",
   "execution_count": null,
   "id": "006b3b66",
   "metadata": {},
   "outputs": [],
   "source": []
  }
 ],
 "metadata": {
  "kernelspec": {
   "display_name": "Python 3.9.0 64-bit",
   "language": "python",
   "name": "python3"
  },
  "language_info": {
   "codemirror_mode": {
    "name": "ipython",
    "version": 3
   },
   "file_extension": ".py",
   "mimetype": "text/x-python",
   "name": "python",
   "nbconvert_exporter": "python",
   "pygments_lexer": "ipython3",
   "version": "3.9.0"
  },
  "vscode": {
   "interpreter": {
    "hash": "08e595c52ca3b9470036b1110e67b559e55f367cabc363f2e28d35631ed95060"
   }
  }
 },
 "nbformat": 4,
 "nbformat_minor": 5
}
