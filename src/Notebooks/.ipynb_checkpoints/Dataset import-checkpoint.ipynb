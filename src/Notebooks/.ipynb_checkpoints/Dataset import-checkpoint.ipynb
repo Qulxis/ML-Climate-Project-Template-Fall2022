{
 "cells": [
  {
   "cell_type": "markdown",
   "id": "1689a24a",
   "metadata": {},
   "source": [
    "## File for testing data importation and data exploration step"
   ]
  },
  {
   "cell_type": "code",
   "execution_count": 16,
   "id": "99a11830",
   "metadata": {},
   "outputs": [],
   "source": [
    "import sys\n",
    "import os\n",
    "import pandas as pd\n"
   ]
  },
  {
   "cell_type": "code",
   "execution_count": 11,
   "id": "9f0d7a64",
   "metadata": {},
   "outputs": [
    {
     "data": {
      "text/plain": [
       "['D:\\\\Columbia 2022\\\\Climate\\\\PROJECT and Repo\\\\ML-Climate-Project-Template-Fall2022\\\\src\\\\Notebooks',\n",
       " 'D:\\\\Columbia 2022\\\\Climate\\\\PROJECT and Repo\\\\ML-Climate-Project-Template-Fall2022\\\\src\\\\Datasets\\\\sample_data\\\\data',\n",
       " 'D:\\\\Columbia 2022\\\\Climate\\\\PROJECT and Repo\\\\ML-Climate-Project-Template-Fall2022\\\\src\\\\Datasets\\\\sample_data\\\\data',\n",
       " 'D:\\\\Columbia 2022\\\\Climate\\\\PROJECT and Repo\\\\ML-Climate-Project-Template-Fall2022\\\\src\\\\Datasets\\\\sample_data\\\\data',\n",
       " 'c:\\\\users\\\\andre\\\\appdata\\\\local\\\\programs\\\\python\\\\python39\\\\python39.zip',\n",
       " 'c:\\\\users\\\\andre\\\\appdata\\\\local\\\\programs\\\\python\\\\python39\\\\DLLs',\n",
       " 'c:\\\\users\\\\andre\\\\appdata\\\\local\\\\programs\\\\python\\\\python39\\\\lib',\n",
       " 'c:\\\\users\\\\andre\\\\appdata\\\\local\\\\programs\\\\python\\\\python39',\n",
       " '',\n",
       " 'C:\\\\Users\\\\andre\\\\AppData\\\\Roaming\\\\Python\\\\Python39\\\\site-packages',\n",
       " 'c:\\\\users\\\\andre\\\\appdata\\\\local\\\\programs\\\\python\\\\python39\\\\lib\\\\site-packages',\n",
       " 'c:\\\\users\\\\andre\\\\appdata\\\\local\\\\programs\\\\python\\\\python39\\\\lib\\\\site-packages\\\\pip-21.3.1-py3.9.egg',\n",
       " 'c:\\\\users\\\\andre\\\\appdata\\\\local\\\\programs\\\\python\\\\python39\\\\lib\\\\site-packages\\\\win32',\n",
       " 'c:\\\\users\\\\andre\\\\appdata\\\\local\\\\programs\\\\python\\\\python39\\\\lib\\\\site-packages\\\\win32\\\\lib',\n",
       " 'c:\\\\users\\\\andre\\\\appdata\\\\local\\\\programs\\\\python\\\\python39\\\\lib\\\\site-packages\\\\Pythonwin',\n",
       " 'c:\\\\users\\\\andre\\\\appdata\\\\local\\\\programs\\\\python\\\\python39\\\\lib\\\\site-packages\\\\IPython\\\\extensions',\n",
       " 'C:\\\\Users\\\\andre\\\\.ipython']"
      ]
     },
     "execution_count": 11,
     "metadata": {},
     "output_type": "execute_result"
    }
   ],
   "source": [
    "#Add sample data to path\n",
    "# sys.path.insert(1, \"D:\\Columbia 2022\\Climate\\PROJECT and Repo\\ML-Climate-Project-Template-Fall2022\\src\\Datasets\\sample_data\\data\")\n",
    "sys.path"
   ]
  },
  {
   "cell_type": "code",
   "execution_count": 18,
   "id": "a3b80535",
   "metadata": {},
   "outputs": [
    {
     "name": "stdout",
     "output_type": "stream",
     "text": [
      "D:\\Columbia 2022\\Climate\\PROJECT and Repo\\ML-Climate-Project-Template-Fall2022\\src\\Notebooks\n"
     ]
    }
   ],
   "source": [
    "# df = pd.read_csv(\"..\\Datasets\\sample_data\\data\\525682_31.49_-103.38_2010.csv\")\n",
    "print(os.getcwd())"
   ]
  },
  {
   "cell_type": "code",
   "execution_count": 32,
   "id": "95d23bd3",
   "metadata": {},
   "outputs": [],
   "source": [
    "#Test reading from datat folder\n",
    "df = pd.read_csv(r\"D:\\Columbia 2022\\Climate\\PROJECT and Repo\\ML-Climate-Project-Template-Fall2022\\src\\Datasets\\sample_data\\data\\525682_31.49_-103.38_2010.csv\",\n",
    "                engine='python')"
   ]
  },
  {
   "cell_type": "code",
   "execution_count": 34,
   "id": "a867911f",
   "metadata": {},
   "outputs": [
    {
     "name": "stdout",
     "output_type": "stream",
     "text": [
      "['Source' 'Location ID' 'City' 'State' 'Country' 'Latitude' 'Longitude'\n",
      " 'Time Zone' 'Elevation' 'Local Time Zone' 'Clearsky DHI Units'\n",
      " 'Clearsky DNI Units' 'Clearsky GHI Units' 'Dew Point Units' 'DHI Units'\n",
      " 'DNI Units' 'GHI Units' 'Solar Zenith Angle Units' 'Temperature Units'\n",
      " 'Pressure Units' 'Relative Humidity Units' 'Precipitable Water Units'\n",
      " 'Wind Direction Units' 'Wind Speed Units' 'Cloud Type -15' 'Cloud Type 0'\n",
      " 'Cloud Type 1' 'Cloud Type 2' 'Cloud Type 3' 'Cloud Type 4'\n",
      " 'Cloud Type 5' 'Cloud Type 6' 'Cloud Type 7' 'Cloud Type 8'\n",
      " 'Cloud Type 9' 'Cloud Type 10' 'Cloud Type 11' 'Cloud Type 12'\n",
      " 'Fill Flag 0' 'Fill Flag 1' 'Fill Flag 2' 'Fill Flag 3' 'Fill Flag 4'\n",
      " 'Fill Flag 5' 'Surface Albedo Units' 'Version']\n"
     ]
    }
   ],
   "source": [
    "#Testing on dataset\n",
    "df = pd.read_csv('test.csv', engine='python' )\n",
    "print(df.columns.values) \n",
    "\"\"\"\n",
    "Results: \n",
    "['Source' 'Location ID' 'City' 'State' 'Country' 'Latitude' 'Longitude'\n",
    " 'Time Zone' 'Elevation' 'Local Time Zone' 'Clearsky DHI Units'\n",
    " 'Clearsky DNI Units' 'Clearsky GHI Units' 'Dew Point Units' 'DHI Units'\n",
    " 'DNI Units' 'GHI Units' 'Solar Zenith Angle Units' 'Temperature Units'\n",
    " 'Pressure Units' 'Relative Humidity Units' 'Precipitable Water Units'\n",
    " 'Wind Direction Units' 'Wind Speed Units' 'Cloud Type -15' 'Cloud Type 0'\n",
    " 'Cloud Type 1' 'Cloud Type 2' 'Cloud Type 3' 'Cloud Type 4'\n",
    " 'Cloud Type 5' 'Cloud Type 6' 'Cloud Type 7' 'Cloud Type 8'\n",
    " 'Cloud Type 9' 'Cloud Type 10' 'Cloud Type 11' 'Cloud Type 12'\n",
    " 'Fill Flag 0' 'Fill Flag 1' 'Fill Flag 2' 'Fill Flag 3' 'Fill Flag 4'\n",
    " 'Fill Flag 5' 'Surface Albedo Units' 'Version']\n",
    "\"\"\"\n",
    "\n",
    "#We can clearly see we need to do some data cleanup. \n"
   ]
  },
  {
   "cell_type": "code",
   "execution_count": 40,
   "id": "ac0a6727",
   "metadata": {},
   "outputs": [],
   "source": [
    "#Adjust csv: We remove the first two rows as these contain information about the location, but should not be headers \n",
    "# of the time based data\n",
    "with open(\"test.csv\",'r') as f:\n",
    "    with open(\"updated_test.csv\",'w') as f1:\n",
    "        next(f)\n",
    "        next(f) # skip header line\n",
    "        for line in f:\n",
    "            f1.write(line)"
   ]
  },
  {
   "cell_type": "code",
   "execution_count": 42,
   "id": "c21743d9",
   "metadata": {},
   "outputs": [
    {
     "data": {
      "text/plain": [
       "\"\\nResults:\\n['Year' 'Month' 'Day' 'Hour' 'Minute' 'DHI' 'DNI' 'Temperature' 'GHI']\\n\""
      ]
     },
     "execution_count": 42,
     "metadata": {},
     "output_type": "execute_result"
    }
   ],
   "source": [
    "df = pd.read_csv('updated_test.csv', engine='python' )\n",
    "# print(df.columns.values) \n",
    "\"\"\"\n",
    "Results:\n",
    "['Year' 'Month' 'Day' 'Hour' 'Minute' 'DHI' 'DNI' 'Temperature' 'GHI']\n",
    "\"\"\"\n",
    "#This is the format we want."
   ]
  },
  {
   "cell_type": "code",
   "execution_count": null,
   "id": "24fad061",
   "metadata": {},
   "outputs": [],
   "source": []
  }
 ],
 "metadata": {
  "kernelspec": {
   "display_name": "Python 3 (ipykernel)",
   "language": "python",
   "name": "python3"
  },
  "language_info": {
   "codemirror_mode": {
    "name": "ipython",
    "version": 3
   },
   "file_extension": ".py",
   "mimetype": "text/x-python",
   "name": "python",
   "nbconvert_exporter": "python",
   "pygments_lexer": "ipython3",
   "version": "3.9.0"
  }
 },
 "nbformat": 4,
 "nbformat_minor": 5
}
